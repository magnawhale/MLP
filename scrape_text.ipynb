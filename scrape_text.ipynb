{
 "cells": [
  {
   "cell_type": "code",
   "execution_count": null,
   "metadata": {},
   "outputs": [],
   "source": []
  },
  {
   "cell_type": "code",
   "execution_count": 32,
   "metadata": {},
   "outputs": [],
   "source": [
    "from bs4 import BeautifulSoup\n",
    "import pandas\n",
    "import numpy\n",
    "import requests\n",
    "import re"
   ]
  },
  {
   "cell_type": "code",
   "execution_count": 73,
   "metadata": {},
   "outputs": [],
   "source": [
    "#Make a get request to retrieve the page\n",
    "html_page = requests.get('https://www.british-history.ac.uk/court-husting-wills/vol2/pp1-6')\n",
    "\n",
    "#Pass the page contents to beautiful soup for parsing\n",
    "soup = BeautifulSoup(html_page.content, 'html.parser')"
   ]
  },
  {
   "cell_type": "code",
   "execution_count": 74,
   "metadata": {
    "scrolled": false
   },
   "outputs": [
    {
     "data": {
      "text/plain": [
       "[<p id=\"p1\">Monday next after the Feast of S. Mathias, Apostle [24 Feb.].</p>,\n",
       " <p id=\"p2\"><strong>Wandelesworth</strong> (William de), corder.—To be buried in the churchyard of S. Paul of the greater Pardon (maioris venie). Bequests to the church of All Hallows at the Hay and ministers thereof. Forty pence to be distributed around his corpse on the day of his burial. To Alianora his sister he leaves twenty shillings, to Henry and John his apprentices and Thomas his kinsman divers gowns, and to Johanna his servant twenty shillings. The residue of his goods and all his tenements he leaves to Alice his wife and his children in equal portions. Dated London, Saturday next before the Feast of Purification of V. Mary [2 Feb.], A.D. 1357.</p>,\n",
       " <p id=\"p3\">Roll 86 (14).</p>,\n",
       " <p id=\"p4\">Monday next after the Feast of Ascension [10 May].</p>,\n",
       " <p id=\"p5\"><strong>Aubrey</strong> (Andrew), pepperer.—To Johanna his wife certain tenements in the parishes of S. Mary de Aldermariecherche and S. Thomas the Apostle, and certain others which he had by sale and grant of John Chaucer, brother  and executor of Thomas Heyroun, late vintner, in the aforesaid parish of S. Mary; also tenements and rents in Milkestrete, parish of S. Laurence\n",
       " \n",
       " Jewry, and the parish of All Hallows de Bredstrete for life, with remainder to John his son in tail; remainder as to part in trust for sale for the good of his soul and the souls of Roger his father, Dionisia his mother, Thomas de Enefelde, and others; remainder as to another part to Thomas Aubrey his kinsman in tail. To the chaplains whom he has appointed, in his will of movable goods, to pray for him in the chapel which he recently built adjoining the church of S. Antonin he leaves the mansion which he was permitted to build by licence from Sir John de Hicchen, late rector of the said church, and certain parishioners.  Also to his aforesaid wife he leaves his leasehold interest in the manor of Westchalke, co. Kent, which he had from Sir John de Cobeham, Knt. Witnesses to the will John Nott and Henry Lacy, \"grossers.\" Dated London, 3 October, 23 Edward III. [A.D. 1349]. Roll 86 (43).</p>,\n",
       " <p id=\"p6\">Monday the Morrow of H. Trinity [27 May].</p>,\n",
       " <p id=\"p7\"><strong>Useflete</strong>  (Thomas de), Dean of S. Martin le Grand.—For the repair of the cloister of the chapel of S. Martin, London, he leaves twenty-four cows and one bull bought by his own money and kept on his manor of Godeiestre;  and also his tenement in the parish of S. Benedict [Paul's Wharf] for increasing the sacristan's portion and for masses, &amp;c., provided this gift be rendered valid by the common seal of the chapter, otherwise the same is to go to the Hospital of S. Mary, London. Pecuniary bequests to Margaret, relict of John his brother, Agnes de Warwyk, and John Harpur. For the repair of the chancel of Neuport he leaves forty shillings, and to the Holy Land ten pounds, for securing which latter he wills that the said money be delivered to collectors of rents and other things for the Holy Land, pledging them upon peril of their souls not to convert the same to other use. The residue of his goods he leaves to be expended by his executors for the good of his soul. Dated the morrow of S. Mathias, Apostle [24 Feb.], A.D. 1348.</p>,\n",
       " <p id=\"p8\">Roll 86 (49).</p>,\n",
       " <p id=\"p9\">Monday next after the Feast of S. Petronilla, Virgin [31 May].</p>,\n",
       " <p id=\"p10\"><strong>Nichol</strong> (William).—His goods and chattels movable to be divided into three parts, one part of which is to go to Felicia his wife; another to his child en ventre sa mèere, if so be his wife is enceinte at the time of making his will; and the residue to be devoted to pious uses. His tenement in Smethefeld to be sold and the proceeds disposed of as above. Dated London, 10 October, A.D. 1355. Roll 86 (52).</p>,\n",
       " <p id=\"p11\"><strong>Pole</strong> (Adam de la), \"stokfishmongere.\"—To be buried in the church of S. Michael de la Crokedelane under the stone where lies Katherine his wife. Bequests to the said church and ministers thereof; to the poor in divers hospitals; to prisoners in Neugate, Templebarre, and the Flete; to poor lazars without Suthwerkbarre and at Hakeneye; to the poor sisters in the house of S. Katherine near the Tower, and to every anchorite in London. Provision made for conducting his obsequies, and for chantries in the aforesaid church for the souls of himself, his wife, Ralph his father, and others. To Walter his son he leaves a tenement in Thames Street in the parish of S. Michael aforesaid in tail; remainder to Amy his sister for life; remainders to Katherine and Johanna, daughters of Walter de Mordon, in successive tail; remainder in trust for sale, and the proceeds to be divided among all the daughters of the said Walter. The aforesaid tenement to be charged with an annual rent of half a mark for the maintenance of tapers to burn on the five days of S. Mary, the feasts of Easter, Pentecost, S. John the Baptist, S. Michael, All Saints, and the Nativity of our Lord, and on their respective vigils. Also to the aforesaid Walter his son he leaves sixty pounds sterling, the same to remain, together with his said son, in the custody of Walter de Mordon, and after the decease of the said Walter de Mordon in the custody of John Lovekyn. Should his said son die a minor the aforesaid sum of money is to be divided among Katherine, Johanna, and Margaret, daughters of the said Walter de Mordon, pro ratâ. Among other bequests he leaves also to the aforesaid Katherine four casks of woad  which Thomas, the apprentice of\n",
       " \n",
       " Walter de Mordon, bought for the testator at Amyas;  and one hundred shillings to be kept in a box in the church aforesaid in the care of two honest parishioners for the repair of a candelabre. Dated London, 21 April, A.D. 1349. Roll 86 (53).</p>,\n",
       " <p id=\"p12\">Monday the Feast of S. Barnabas, Apostle [11 June].</p>,\n",
       " <p id=\"p13\"><strong>Drayton</strong> (John de), tailor.—To be buried in S. Paul's churchyard near the cross where lies the body of Agnes his late wife. Bequests to the church of S. Paul, for funeral expenses, and for chantries in the church of S. Edmund the King in Lumbardestret, to which church, among other bequests, he leaves a chalice weighing thirty shillings. To the Fraternity of S. John,  of which the testator is a member, he leaves ten shillings. To Margaret his wife for life his tenement called \"la Belle\" in Bercheverlane, parish of S. Edmund, the same to remain, under certain conditions, to Dyonisia his daughter, wife of William Morewode, in tail; remainder in trust for sale for pious uses. To Thomas his brother his best gown. His corner tenement in Lumbardestret to be sold, and the proceeds to go to Margaret his wife and John his son in equal portions. Guardians appointed for his said son. To Salomon de Wynton for life tenements in Berchevereslane aforesaid; remainder to Dyonisia, the testator's daughter, in tail; remainder to pious uses. Dated London, 17 April, 32 Edward III. [A.D. 1358]. Roll 86 (59).</p>,\n",
       " <p id=\"p14\"><strong>Adami</strong> (John) de Montchesney, apothecary.—Leaves to his wife [not named] whatever is due to her by the custom or law of the country; also her chamber, with jewels and clothes. To Sir Guelf his brother one hundred pounds sterling. Jaket his nephew to be remunerated for his good and long service. Bequests to the rector of the parish church of S. Stephen de Walbroch, to the poor, and other pious and charitable uses at the discretion of his executors. Appoints William and John his sons and Katherine his daughter his heirs, and certain citizens and merchants of Lucca his trustees (fidei commissarios) for recovering choses in action, &amp;c. Desires this his last will to take effect by\n",
       " \n",
       " way of testament or codicils,  or in any other way as may be most effectual. Dated London, at the house of the testator near the church of S. Stephen de Walbrok, 20 May, A.D. 1358, XI. Pontifical Indiction.</p>,\n",
       " <p id=\"p15\">Afterwards, viz., on 21 May, the testator by codicil gave to Alice his natural daughter ten pounds sterling; to John atte Done his servant ten marks; and released his apprentices from further service. Also on 22 May he expressed a wish that Sir Thomas [Blundell], the rector of the church of S. Stephen aforesaid, should act with his executors in executing the foregoing for the good of his soul.</p>,\n",
       " <p id=\"p16\">Roll 86 (60).</p>,\n",
       " <p id=\"p17\">Monday next before the Feast of S. Margaret, Virgin [20 July].</p>,\n",
       " <p id=\"p18\"><strong>Fraunceys</strong>  (Simon), mercer.—To Thomas his son lands, tenements, and rents in the parish of S. Mary de Wolcherchawe in tail; remainder in trust for sale for pious uses. To Elys Fraunceys, mercer, all his lands, tenements, and rents in the parishes of S. Olave in the Jewry and S. Stephen Colmanstret in tail, with similar remainder. And whereas he had already given to Alice his daughter and the heirs of her body his lands, tenements, and rents opposite la Ledenhalle in the parish of S. Peter upon Cornhull, he wills that in case she die without such heirs the same be sold and the proceeds devoted to the good of his soul, the souls of his father and mother, and of all Christians in purgatory. Dated London, 19 May, A.D. 1358. Roll 86 (87).</p>,\n",
       " <p id=\"p19\">Monday the Morrow of the Feast of S. Mary Magdalen [22 July].</p>,\n",
       " <p id=\"p20\"><strong>Scharpes</strong> (Eva).—To be buried in the churchyard of S. Mary atte Hull. To the ministers, &amp;c., of the said parish church sums of money, and to the high altar of the said church two cushions (servicalia) worked with silk (de syndone), and two towels. Her tenement at Oystergate to be sold to pay her debts and for maintenance of a chantry. To Agnes, wife of Roger Scharpes, Roger her servant, Agnes her sister, John Scharp, Robert Scharp,\n",
       " \n",
       " Alan Scharp, and others, she leaves divers household goods, comprising mazer cups, feather beds, sheets and chalons, silver spoons, &amp;c. To each of her executors forty pence for their trouble. Dated London, Tuesday next before the Feast of S. Gregory [12 March], A.D. 1348. Roll 86 (90).</p>,\n",
       " <p id=\"p21\"><strong>St. Maur</strong> (Laurence de), Rector of the church of Heygham Ferers.  —To Alan, Thomas, and Nicholas de St. Maur his nephews he leaves all his houses in London in successive tail; remainder to Laurence de St. Martin. No date. Roll 86 (91).</p>,\n",
       " <p id=\"p22\">Monday next after the Feast of S. Luke, Evangelist [18 Oct.].</p>,\n",
       " <p id=\"p23\"><strong>Wodehalle</strong> (William) of Henele,  diocese of Lincoln and diocese of London.—To be buried in the church of Henele. Bequests to the mother church of Lincoln, the mother church of London, the college of secular priests of S. Paul's, London, the repair of the churches of Hestone  and Henele, and to various chaplains and others. Isabella his wife and executrix to sell his tenement in the parish of All Hallows de Stannchirche, and divide the proceeds between the conventual house of Thame,  the convent of Westminster, and the conventual house of Merthone.  The residue of his property to be disposed of for the good of his soul by his aforesaid wife as she shall answer for it before God at the Great Judgment. Dated Henele, Wednesday next before Passion Sunday [2 April], A.D. 1357. Roll 86 (110).</p>]"
      ]
     },
     "execution_count": 74,
     "metadata": {},
     "output_type": "execute_result"
    }
   ],
   "source": [
    "paragraphs = soup(id=re.compile(\"^p\"))\n",
    "for em in soup(\"em\"):\n",
    "    em.unwrap()\n",
    "for a in soup(\"a\"):\n",
    "    a.decompose()\n",
    "# for p in soup('p'):\n",
    "#     p.unwrap()\n",
    "paragraphs"
   ]
  },
  {
   "cell_type": "code",
   "execution_count": null,
   "metadata": {},
   "outputs": [],
   "source": []
  }
 ],
 "metadata": {
  "kernelspec": {
   "display_name": "Python [conda env:.conda-capstone-env] *",
   "language": "python",
   "name": "conda-env-.conda-capstone-env-py"
  },
  "language_info": {
   "codemirror_mode": {
    "name": "ipython",
    "version": 3
   },
   "file_extension": ".py",
   "mimetype": "text/x-python",
   "name": "python",
   "nbconvert_exporter": "python",
   "pygments_lexer": "ipython3",
   "version": "3.6.6"
  }
 },
 "nbformat": 4,
 "nbformat_minor": 2
}
